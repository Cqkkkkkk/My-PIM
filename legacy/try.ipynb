{
 "cells": [
  {
   "cell_type": "markdown",
   "metadata": {},
   "source": [
    "# Try\n",
    "My personal notes "
   ]
  },
  {
   "cell_type": "code",
   "execution_count": 11,
   "metadata": {},
   "outputs": [],
   "source": [
    "import torch\n",
    "import torch.nn as nn\n",
    "\n",
    "# Feature Selector\n",
    "class WSS(nn.Module):\n",
    "    def __init__(self, in_channel, num_classes, num_selects) -> None:\n",
    "        super().__init__()\n",
    "        self.fc = nn.Linear(in_channel, num_classes)\n",
    "        self.num_selects = num_selects\n",
    "    \n",
    "    def forward(self, x):\n",
    "        # Input: x = [B, HxW, C] \n",
    "        # Output: class_prediction = [B, HxW, num_classes], selectd_features = [B, num_selects, num_classes]\n",
    "        # First project the x by linear, sort it, and use the index to collect the original feature (x).\n",
    "        h = self.fc(x)\n",
    "        logits = torch.softmax(h, dim=-1)\n",
    "        _, ids = torch.sort(logits, dim=-1, descending=True)\n",
    "        selection = ids[:, :self.num_selects]\n",
    "        return logits, torch.gather(x, 1, selection)\n",
    "\n"
   ]
  },
  {
   "cell_type": "code",
   "execution_count": 13,
   "metadata": {},
   "outputs": [
    {
     "name": "stdout",
     "output_type": "stream",
     "text": [
      "torch.Size([1, 16, 6]) torch.Size([1, 4, 6])\n"
     ]
    }
   ],
   "source": [
    "data = torch.rand((1, 16, 8))\n",
    "model = WSS(in_channel=8, num_classes=6, num_selects=4)\n",
    "logits, features = model(data)\n",
    "\n",
    "print(logits.shape, features.shape)\n"
   ]
  },
  {
   "cell_type": "code",
   "execution_count": null,
   "metadata": {},
   "outputs": [],
   "source": []
  },
  {
   "cell_type": "code",
   "execution_count": null,
   "metadata": {},
   "outputs": [],
   "source": []
  }
 ],
 "metadata": {
  "kernelspec": {
   "display_name": "Python 3.7.13 ('cq')",
   "language": "python",
   "name": "python3"
  },
  "language_info": {
   "codemirror_mode": {
    "name": "ipython",
    "version": 3
   },
   "file_extension": ".py",
   "mimetype": "text/x-python",
   "name": "python",
   "nbconvert_exporter": "python",
   "pygments_lexer": "ipython3",
   "version": "3.7.13"
  },
  "orig_nbformat": 4,
  "vscode": {
   "interpreter": {
    "hash": "6140e9aacd89260ef905cd165946098f3988415e07189a160df54f47f3f0fd94"
   }
  }
 },
 "nbformat": 4,
 "nbformat_minor": 2
}
